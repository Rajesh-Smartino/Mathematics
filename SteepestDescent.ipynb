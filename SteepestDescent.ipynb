{
 "cells": [
  {
   "cell_type": "markdown",
   "id": "aad316f3",
   "metadata": {},
   "source": [
    "# Steepest Descent"
   ]
  },
  {
   "cell_type": "code",
   "execution_count": 1,
   "id": "2871a556",
   "metadata": {},
   "outputs": [],
   "source": [
    "import numpy as np\n",
    "from numpy import linalg"
   ]
  },
  {
   "cell_type": "code",
   "execution_count": 2,
   "id": "b5457f6f",
   "metadata": {},
   "outputs": [
    {
     "data": {
      "text/plain": [
       "(array([[ 1,  0,  0],\n",
       "        [ 0,  5,  0],\n",
       "        [ 0,  0, 25]]),\n",
       " array([-1, -1, -1]))"
      ]
     },
     "execution_count": 2,
     "metadata": {},
     "output_type": "execute_result"
    }
   ],
   "source": [
    "Q = np.array([[1, 0, 0], [0, 5, 0], [0, 0, 25]])\n",
    "c = np.array([-1, -1, -1])\n",
    "Q, c"
   ]
  },
  {
   "cell_type": "code",
   "execution_count": 3,
   "id": "05dd17e8",
   "metadata": {},
   "outputs": [],
   "source": [
    "def gradf_xk(Q, xk, c):\n",
    "    return np.matmul(Q, xk)-c"
   ]
  },
  {
   "cell_type": "code",
   "execution_count": 4,
   "id": "7fca263c",
   "metadata": {},
   "outputs": [
    {
     "name": "stdout",
     "output_type": "stream",
     "text": [
      "Iteration  1\n",
      "gradient:  [1 1 1]\n",
      "norm:  1.7320508075688772\n",
      "ak:  0.0967741935483871\n",
      "xk+1:  [-0.09677419 -0.09677419 -0.09677419]\n",
      "-----------------------------------\n",
      "Iteration  2\n",
      "gradient:  [ 0.90322581  0.51612903 -1.41935484]\n",
      "norm:  1.7597653802562396\n",
      "ak:  0.05897273303741281\n",
      "xk+1:  [-0.15003989 -0.12721173 -0.01307096]\n",
      "-----------------------------------\n",
      "Iteration  3\n",
      "gradient:  [0.84996011 0.36394133 0.67322601]\n",
      "norm:  1.1437301905217512\n",
      "ak:  0.10287567461343115\n",
      "xk+1:  [-0.23748011 -0.16465244 -0.08232954]\n",
      "-----------------------------------\n"
     ]
    }
   ],
   "source": [
    "x0 = [0, 0, 0]\n",
    "\n",
    "xk = x0\n",
    "flag = True\n",
    "i = 1\n",
    "while(i<4):\n",
    "    gfk = gradf_xk(Q, xk, c)\n",
    "    pk = -gfk\n",
    "    norm = linalg.norm(gfk)\n",
    "    \n",
    "    n1 = np.matmul(-gfk.T, pk)\n",
    "    d1 = np.matmul(Q, pk)\n",
    "    d2 = np.matmul(pk.T, d1)\n",
    "    ak = n1/d2\n",
    "        \n",
    "    xk1 = xk+ak*pk\n",
    "    \n",
    "    print(\"Iteration \", i)\n",
    "    print('gradient: ' , gfk)\n",
    "    print('norm: ' , norm)\n",
    "    print('ak: ' , ak)\n",
    "    print('xk+1: ' , xk1)\n",
    "    print('-----------------------------------')\n",
    "    \n",
    "    xk = xk1\n",
    "    i += 1"
   ]
  },
  {
   "cell_type": "code",
   "execution_count": null,
   "id": "23ea2e4b",
   "metadata": {},
   "outputs": [],
   "source": []
  }
 ],
 "metadata": {
  "kernelspec": {
   "display_name": "Python 3 (ipykernel)",
   "language": "python",
   "name": "python3"
  },
  "language_info": {
   "codemirror_mode": {
    "name": "ipython",
    "version": 3
   },
   "file_extension": ".py",
   "mimetype": "text/x-python",
   "name": "python",
   "nbconvert_exporter": "python",
   "pygments_lexer": "ipython3",
   "version": "3.8.13"
  }
 },
 "nbformat": 4,
 "nbformat_minor": 5
}

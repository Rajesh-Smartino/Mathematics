{
 "cells": [
  {
   "cell_type": "code",
   "execution_count": 3,
   "id": "593b6521-bc45-4692-b8a8-0587f67b51f3",
   "metadata": {},
   "outputs": [
    {
     "name": "stdout",
     "output_type": "stream",
     "text": [
      "[[1 2 3]\n",
      " [1 2 3]]\n"
     ]
    }
   ],
   "source": [
    "import numpy as np\n",
    "\n",
    "A = np.array([[1,2,3],[1,2,3]])\n",
    "print(A)"
   ]
  },
  {
   "cell_type": "code",
   "execution_count": 28,
   "id": "92dacb51-bf08-4b91-9657-3654bfdfa7e0",
   "metadata": {},
   "outputs": [
    {
     "name": "stdout",
     "output_type": "stream",
     "text": [
      "[[1 1 1]\n",
      " [2 2 2]\n",
      " [1 2 3]]\n",
      "(3, 3)\n",
      "3 3\n"
     ]
    }
   ],
   "source": [
    "B = np.array([[1,1,1],[2,2,2],[1,2,3]])\n",
    "print(B)\n",
    "print(B.shape) #rows and column\n",
    "m, n = B.shape\n",
    "print(m,n)"
   ]
  },
  {
   "cell_type": "code",
   "execution_count": 10,
   "id": "8ab551eb-d972-484a-8c9e-0db2dba203a3",
   "metadata": {},
   "outputs": [
    {
     "name": "stdout",
     "output_type": "stream",
     "text": [
      "[[ 8 11 14]\n",
      " [ 8 11 14]]\n"
     ]
    }
   ],
   "source": [
    "C = A.dot(B) #Matrix Multiplication\n",
    "print(C)"
   ]
  },
  {
   "cell_type": "code",
   "execution_count": 15,
   "id": "143b0935-edac-4b43-9987-bbfc0a4503e8",
   "metadata": {},
   "outputs": [
    {
     "name": "stdout",
     "output_type": "stream",
     "text": [
      "[[ 2  3  8]\n",
      " [ 1 10  3]]\n"
     ]
    }
   ],
   "source": [
    "D = np.array([[1,1,5],[0,8,0]])\n",
    "C = A+D\n",
    "print(C)"
   ]
  },
  {
   "cell_type": "code",
   "execution_count": 16,
   "id": "c29ab0c2-89e5-4bfe-9c75-d20d83e96a1e",
   "metadata": {},
   "outputs": [
    {
     "name": "stdout",
     "output_type": "stream",
     "text": [
      "[[ 2  1]\n",
      " [ 3 10]\n",
      " [ 8  3]]\n"
     ]
    }
   ],
   "source": [
    "print(C.transpose())"
   ]
  },
  {
   "cell_type": "code",
   "execution_count": 17,
   "id": "863a793a-0f81-450b-b019-d08854dfbf07",
   "metadata": {},
   "outputs": [
    {
     "name": "stdout",
     "output_type": "stream",
     "text": [
      "1 3 1\n"
     ]
    }
   ],
   "source": [
    "#Access elements\n",
    "print(A[0][0],A[-1][-1],A[1][0])"
   ]
  },
  {
   "cell_type": "code",
   "execution_count": 21,
   "id": "cca282a0-a79a-4d46-9c27-0ed7c1afb47a",
   "metadata": {},
   "outputs": [
    {
     "name": "stdout",
     "output_type": "stream",
     "text": [
      "[3 3]\n"
     ]
    }
   ],
   "source": [
    "#Access columns\n",
    "print(A[:,2])"
   ]
  },
  {
   "cell_type": "code",
   "execution_count": 22,
   "id": "2896a6e8-db82-4621-9068-c07191cc6e5e",
   "metadata": {},
   "outputs": [
    {
     "name": "stdout",
     "output_type": "stream",
     "text": [
      "[1 2 3]\n"
     ]
    }
   ],
   "source": [
    "#Access rows\n",
    "print(A[1,:])"
   ]
  },
  {
   "cell_type": "code",
   "execution_count": 23,
   "id": "1b6d10a5-52c3-4a32-95af-d8ce6f344711",
   "metadata": {},
   "outputs": [],
   "source": [
    "#Rank of matrix\n",
    "\n",
    "A = np.array([[1,2,3],[2,3,1]])\n",
    "m,n = A.shape\n",
    "tempArray = []\n",
    "\n",
    "for i in range(0,m):\n",
    "    tempArray.append(A[i,:])\n",
    "    #print(tempArray)\n",
    "\n",
    "pivot1, pivot2 = 0,0\n",
    "\n",
    "pivot1 = tempArray[0]\n",
    "\n",
    "\n",
    "#setting pivot values i,j\n",
    "row = 4\n",
    "i=0\n",
    "\n",
    "for j in range(0,row-1):\n",
    "    #print(i,j)\n",
    "    #print(i+1,j)\n",
    "    #print(\"\\n\")\n",
    "    i+=1\n",
    "    "
   ]
  },
  {
   "cell_type": "code",
   "execution_count": 98,
   "id": "42384b88-64e2-4135-b235-a8e29cdc6bb5",
   "metadata": {},
   "outputs": [
    {
     "name": "stdout",
     "output_type": "stream",
     "text": [
      "\n",
      "\n",
      "Pivot [1, 2]\n",
      "[1 2 3] [2 3 1]\n",
      "Pivot Multiplied [2 4 6] [2 3 1]\n",
      "Updated [2 4 6] [0 1 5]\n",
      "\n",
      "\n",
      "Pivot [1, 2]\n",
      "[0 1 5] [1 2 1]\n",
      "Pivot Multiplied [ 0  2 10] [1 2 1]\n",
      "Updated [ 0  2 10] [-1  0  9]\n"
     ]
    }
   ],
   "source": [
    "#PIVOT MISSED\n",
    "def pivotmulti(r1,r2,p):\n",
    "    print(r1,r2)\n",
    "    r1 = r1*p[1]\n",
    "    r2 = r2*p[0]\n",
    "    return r1,r2\n",
    "\n",
    "def difference(r1,r2):\n",
    "    r2 = r1-r2\n",
    "    return r1,r2\n",
    "\n",
    "A = np.array([[1,2,3],[2,3,1],[1,2,1]])\n",
    "row,col = A.shape\n",
    "i = 0\n",
    "pivot = []\n",
    "for j in range(0,row-1):\n",
    "    #print(i,j)\n",
    "    #print(i+1,j)\n",
    "    print(\"\\n\")\n",
    "    \n",
    "    pivot = [A[i][j],A[i+1][j]]\n",
    "    print(\"Pivot\", pivot)\n",
    "    A[j,:],A[j+1,:]=pivotmulti(A[j,:],A[j+1,:],pivot)\n",
    "    print(\"Pivot Multiplied\",A[j,:],A[j+1,:])\n",
    "    \n",
    "    A[j,:],A[j+1,:]=difference(A[j,:],A[j+1,:])\n",
    "    print(\"Updated\",A[j,:],A[j+1,:])\n",
    "    \n",
    "    \n",
    "    i+=1"
   ]
  },
  {
   "cell_type": "code",
   "execution_count": 80,
   "id": "c4876073-9e6a-4fad-a32d-74f9e1e271a2",
   "metadata": {},
   "outputs": [
    {
     "name": "stdout",
     "output_type": "stream",
     "text": [
      "[2 1 5] [3 6 1]\n",
      "[ 6  3 15] [ 6 12  2]\n",
      "[ 6  3 15] [ 0 -9 13]\n"
     ]
    }
   ],
   "source": [
    "def difference(r1,r2):\n",
    "    r2 = r1-r2\n",
    "    return r1,r2\n",
    "\n",
    "def pivotmulti(r1,r2,p):\n",
    "    print(r1,r2)\n",
    "    r1 = r1*p[1]\n",
    "    r2 = r2*p[0]\n",
    "    return r1,r2\n",
    "    \n",
    "    \n",
    "row1 = np.array([2,1,5])\n",
    "row2 = np.array([3,6,1])\n",
    "p = [2,3]\n",
    "row1, row2 = pivotmulti(row1,row2,p)\n",
    "print(row1,row2)\n",
    "\n",
    "r1,r2 = difference(row1,row2)\n",
    "print(r1,r2)"
   ]
  },
  {
   "cell_type": "code",
   "execution_count": 99,
   "id": "26646d5c-4fac-4c06-988d-7c2ba6cd7bd2",
   "metadata": {},
   "outputs": [
    {
     "name": "stdout",
     "output_type": "stream",
     "text": [
      "\n",
      "\n",
      "Pivot [1, 2]\n",
      "[1 2 3] [2 3 1]\n",
      "Pivot Multiplied [2 4 6] [2 3 1]\n",
      "Updated [2 4 6] [0 1 5]\n",
      "\n",
      "\n",
      "Pivot [1, 2]\n",
      "[0 1 5] [1 2 1]\n",
      "Pivot Multiplied [ 0  2 10] [1 2 1]\n",
      "Updated [ 0  2 10] [-1  0  9]\n"
     ]
    }
   ],
   "source": [
    "def pivotmulti(r1,r2,p):\n",
    "    print(r1,r2)\n",
    "    r1 = r1*p[1]\n",
    "    r2 = r2*p[0]\n",
    "    return r1,r2\n",
    "\n",
    "def difference(r1,r2):\n",
    "    r2 = r1-r2\n",
    "    return r1,r2\n",
    "\n",
    "A = np.array([[1,2,3],[2,3,1],[1,2,1]])\n",
    "row,col = A.shape\n",
    "i = 0\n",
    "pivot = []\n",
    "for j in range(0,row-1):\n",
    "    #print(i,j)\n",
    "    #print(i+1,j)\n",
    "    print(\"\\n\")\n",
    "    \n",
    "    pivot = [A[i][j],A[i+1][j]]\n",
    "    print(\"Pivot\", pivot)\n",
    "    A[j,:],A[j+1,:]=pivotmulti(A[j,:],A[j+1,:],pivot)\n",
    "    print(\"Pivot Multiplied\",A[j,:],A[j+1,:])\n",
    "    \n",
    "    A[j,:],A[j+1,:]=difference(A[j,:],A[j+1,:])\n",
    "    print(\"Updated\",A[j,:],A[j+1,:])\n",
    "    \n",
    "    \n",
    "    i+=1"
   ]
  },
  {
   "cell_type": "code",
   "execution_count": 136,
   "id": "b1858c58-22b8-4f48-a870-5e811b786284",
   "metadata": {},
   "outputs": [
    {
     "name": "stdout",
     "output_type": "stream",
     "text": [
      "0 0\n",
      "1 0\n",
      "2 0\n",
      "1 1\n",
      "2 1\n",
      "2 2\n",
      "[[0, 0], [0, 0], [0, 0], [1, 0], [1, 0], [1, 0], [2, 0], [2, 0], [2, 0], [1, 1], [1, 1], [1, 1], [2, 1], [2, 1], [2, 1], [2, 2], [2, 2], [2, 2]]\n"
     ]
    }
   ],
   "source": [
    "A = np.array([[1,2,3],[2,3,1],[1,2,1]])\n",
    "row,col = A.shape\n",
    "pivotindex = []\n",
    "for i in range(0,row):\n",
    "    for j in range(0,col):\n",
    "        if i<=j:\n",
    "            print(j,i)\n",
    "            for k in range(0,row):\n",
    "                pivotindex.append([j,i])\n",
    "\n",
    "print(pivotindex)"
   ]
  },
  {
   "cell_type": "markdown",
   "id": "10f142c5-5b4c-4839-8dc3-792367076374",
   "metadata": {},
   "source": [
    "......\n",
    "\n",
    "\n",
    "\n",
    "Rank of a Matrix\n",
    "\n",
    "\n",
    "\n",
    "\n",
    "......"
   ]
  },
  {
   "cell_type": "code",
   "execution_count": 58,
   "id": "963cf1be-6eb4-49a5-81fd-53ab75ac44e2",
   "metadata": {},
   "outputs": [
    {
     "name": "stdout",
     "output_type": "stream",
     "text": [
      "Row, Col =  3 3\n",
      "Matrix is =  [[1 2 3]\n",
      " [2 4 6]\n",
      " [2 0 7]]\n",
      "------------------\n",
      "------------------\n",
      "kth pass= 0\n",
      "------------------\n",
      "passed row [1 2 3] [2 4 6]\n",
      "True 2\n",
      "True count= 0\n",
      "pivot are  1 2\n",
      "Updated [1 2 3] [0 0 0]\n",
      "            \n",
      "passed row [1 2 3] [2 0 7]\n",
      "True 2\n",
      "True count= 0\n",
      "pivot are  1 2\n",
      "Updated [1 2 3] [ 0 -4  1]\n",
      "            \n",
      "\n",
      "Temp Count= 0\n",
      "------------------\n",
      "kth pass= 1\n",
      "------------------\n",
      "passed row [0 0 0] [ 0 -4  1]\n",
      "True 0\n",
      "Check for overlap 0 1\n",
      "True -4\n",
      "True count= 1\n",
      "pivot are  0 -4\n",
      "Updated [0 0 0] [0 0 0]\n",
      "            \n",
      "\n",
      "Temp Count= 1\n",
      "------------------\n",
      "kth pass= 2\n",
      "------------------\n",
      "\n",
      "Temp Count= 1\n",
      "       RESULT        \n",
      "[[1 2 3]\n",
      " [0 0 0]\n",
      " [0 0 0]]\n",
      "LAST count= 1\n"
     ]
    }
   ],
   "source": [
    "import numpy as np\n",
    "\n",
    "class RankofMatrix():\n",
    "    \n",
    "    def __init__(self,A):\n",
    "        self.A = A\n",
    "        self.row, self.col = A.shape\n",
    "        self.c = 0\n",
    "        self.tempc = 0\n",
    "        self.flag = True\n",
    "        print(\"Row, Col = \",self.row, self.col)\n",
    "        print(\"Matrix is = \",self.A)\n",
    "        print(\"------------------\")\n",
    "                    \n",
    "    def checkforoverlap(self):\n",
    "        if self.c:\n",
    "            if self.c == self.tempc+1:\n",
    "                self.flag = True\n",
    "                #self.tempc = self.c\n",
    "            else:\n",
    "                self.flag = False\n",
    "        \n",
    "                    \n",
    "    def setpivots(self,r1,r2):\n",
    "        for i in range(0,self.col):\n",
    "            print(self.flag,r2[i])\n",
    "            if r2[i] and self.flag:\n",
    "                p1 = r1[i]\n",
    "                p2 = r2[i]\n",
    "                #print(\"i, p1, p2 = \",i,p1,p2)\n",
    "                break\n",
    "            self.c += 1\n",
    "            print(\"Check for overlap\",self.tempc,self.c)\n",
    "            rank_matrix.checkforoverlap()\n",
    "            \n",
    "        print(\"True count=\",self.c)\n",
    "      \n",
    "        return p1,p2\n",
    "          \n",
    "    def multidiffer(self,r1,r2):\n",
    "        print(\"passed row\",r1,r2)\n",
    "        t = r1\n",
    "        p1, p2 = rank_matrix.setpivots(r1,r2)\n",
    "        print(\"pivot are \",p1,p2)\n",
    "        r1 = p2*r1\n",
    "        r2 = p1*r2\n",
    "        r2 = r2-r1\n",
    "        return t,r2\n",
    "        \n",
    "\n",
    "    def mainalgo(self):\n",
    "        k = 0\n",
    "        while self.row-k:\n",
    "            print(\"------------------\")\n",
    "            print(\"kth pass=\",k)\n",
    "            print(\"------------------\")\n",
    "            for i in range(0,self.row-1):\n",
    "                try:\n",
    "                    r1, r2 = rank_matrix.multidiffer(self.A[k], self.A[i+k+1])\n",
    "                    print(\"Updated\",r1,r2)\n",
    "                    print(\"            \")\n",
    "                    self.A[k] = r1\n",
    "                    self.A[i+k+1] = r2\n",
    "                except:\n",
    "                    pass\n",
    "            k+=1\n",
    "            self.tempc = self.c\n",
    "            print(\"\\nTemp Count=\", self.tempc)\n",
    "            \n",
    "        print(\"       RESULT        \")\n",
    "        print(self.A)\n",
    "        print(\"LAST count=\",self.c)\n",
    "        \n",
    "    \n",
    "if __name__ == '__main__':\n",
    "    A = np.array([[1,2,3],[2,3,1],[1,2,1]]) #passed\n",
    "    B = np.array([[2,2,2],[2,5,1],[2,1,3]]) #passed\n",
    "    C = np.array([[1,2,2],[2,4,4],[3,6,6]]) #passed\n",
    "    D = np.array([[1,2,3],[2,4,6],[2,0,7]]) #Failed\n",
    "    rank_matrix = RankofMatrix(D)\n",
    "    rank_matrix.mainalgo()\n"
   ]
  },
  {
   "cell_type": "code",
   "execution_count": null,
   "id": "c7f76f3d-5fed-45c5-899d-e9410e166a6b",
   "metadata": {},
   "outputs": [],
   "source": []
  },
  {
   "cell_type": "code",
   "execution_count": null,
   "id": "5eca917c-f499-4997-af61-69518bb6367c",
   "metadata": {},
   "outputs": [],
   "source": []
  }
 ],
 "metadata": {
  "kernelspec": {
   "display_name": "Python 3",
   "language": "python",
   "name": "python3"
  },
  "language_info": {
   "codemirror_mode": {
    "name": "ipython",
    "version": 3
   },
   "file_extension": ".py",
   "mimetype": "text/x-python",
   "name": "python",
   "nbconvert_exporter": "python",
   "pygments_lexer": "ipython3",
   "version": "3.9.6"
  }
 },
 "nbformat": 4,
 "nbformat_minor": 5
}
